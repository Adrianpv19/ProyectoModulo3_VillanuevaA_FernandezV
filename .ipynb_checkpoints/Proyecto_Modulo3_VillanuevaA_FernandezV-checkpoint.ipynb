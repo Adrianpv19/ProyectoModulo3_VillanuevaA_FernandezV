{
 "cells": [
  {
   "cell_type": "markdown",
   "metadata": {},
   "source": [
    "# Momento flexionante de viga"
   ]
  },
  {
   "cell_type": "markdown",
   "metadata": {},
   "source": [
    "### Adrian Padilla Villanueva\n",
    "### Victor Manuel Vidal Fernandez\n",
    "\n",
    "\n",
    "# Objetivo\n",
    "\n",
    "    En este proyecto veremos el comportamiento de una viga de 10 metros de longitud, cuando es sometida a diferentes esfuerzos, todo esto mediante un modelo matematico.\n",
    "    \n",
    "    \n",
    "Supondremos que la viga ocupa el intervalo x∈[0,L] y denotamos el desplazamiento vertical de su eje por y(x). Para desplazamientos pequeños, y(x) satisface la ecuación de la curva elástica que proviene del equilibrio de momentos:\n",
    "\n",
    "$$\n",
    "y\"=\\frac{M(x)}{EI(x)}\n",
    "$$\n",
    "\n",
    "Donde E es el módulo de elasticidad lineal (o módulo de Young) que depende de las propiedades elásticas del material, y que supondremos constante, mientras que I(x) es el momento de inercia de la sección transversal respecto al centro la cual se representa como:\n",
    "\n",
    "$$\n",
    "I=\\frac{1}{12}ba^3\n",
    "$$\n",
    "\n",
    "La función M(x) se conoce como momento flector y representa el momento de las fuerzas aplicadas sobre la viga. \n",
    "\n",
    "$$\n",
    "M(x)=\\frac{L}{2}- Ix-\\frac{L}{2}I\n",
    "$$"
   ]
  },
  {
   "cell_type": "markdown",
   "metadata": {},
   "source": [
    "DATOS:\n",
    "\n",
    "$$\n",
    "E= 5*10^4\n",
    "$$\n",
    "\n",
    "$$\n",
    "a=0.6, b=0.3\n",
    "$$\n",
    "\n",
    "Donde a es la altura de la viga y b es el ancho\n",
    "\n",
    "Condiciones de contorno\n",
    "\n",
    "$$\n",
    "y(0)=0\n",
    "$$\n",
    "\n",
    "$$\n",
    "y(L)=0\n",
    "$$\n",
    "\n",
    "Condiciones de inicio\n",
    "\n",
    "$$\n",
    "y(0)=0\n",
    "$$\n",
    "\n",
    "$$\n",
    "y\"(0)=5*10^-3\n",
    "$$"
   ]
  },
  {
   "cell_type": "code",
   "execution_count": 9,
   "metadata": {},
   "outputs": [],
   "source": [
    "%matplotlib inline\n",
    "import numpy as np\n",
    "import matplotlib.pyplot as plt\n",
    "from scipy.integrate import odeint"
   ]
  },
  {
   "cell_type": "code",
   "execution_count": 21,
   "metadata": {},
   "outputs": [],
   "source": [
    "def f(y,x):\n",
    "    return np.array([y[1], M(x) / (E*I(x))])"
   ]
  },
  {
   "cell_type": "code",
   "execution_count": 3,
   "metadata": {},
   "outputs": [],
   "source": [
    "L = 10\n",
    "E = 5e4\n",
    "a = 0.6\n",
    "b = 0.3\n",
    "\n",
    "x = np.linspace(0, L, num=50)\n",
    "\n",
    "def I(x):\n",
    "    return b*a**3/12\n",
    "def M(x):\n",
    "    return L/2-np.abs(x-L/2)"
   ]
  },
  {
   "cell_type": "markdown",
   "metadata": {},
   "source": [
    "Probamos la solucion con las condiciones iniciales"
   ]
  },
  {
   "cell_type": "code",
   "execution_count": 18,
   "metadata": {},
   "outputs": [],
   "source": [
    "odeint?"
   ]
  },
  {
   "cell_type": "code",
   "execution_count": 22,
   "metadata": {},
   "outputs": [
    {
     "data": {
      "text/plain": [
       "array([[0.        , 0.005     ],\n",
       "       [0.00102567, 0.00507713],\n",
       "       [0.0020828 , 0.00530851],\n",
       "       [0.0032029 , 0.00569416],\n",
       "       [0.00441744, 0.00623405],\n",
       "       [0.00575791, 0.00692821],\n",
       "       [0.00725578, 0.00777662],\n",
       "       [0.00894253, 0.00877929],\n",
       "       [0.01084965, 0.00993621],\n",
       "       [0.01300862, 0.0112474 ],\n",
       "       [0.01545092, 0.01271284],\n",
       "       [0.01820803, 0.01433253],\n",
       "       [0.02131143, 0.01610648],\n",
       "       [0.0247926 , 0.01803469],\n",
       "       [0.02868302, 0.02011716],\n",
       "       [0.03301418, 0.02235388],\n",
       "       [0.03781755, 0.02474486],\n",
       "       [0.04312461, 0.0272901 ],\n",
       "       [0.04896686, 0.02998959],\n",
       "       [0.05537576, 0.03284334],\n",
       "       [0.06238279, 0.03585134],\n",
       "       [0.07001945, 0.03901361],\n",
       "       [0.07831721, 0.04233012],\n",
       "       [0.08730755, 0.0458009 ],\n",
       "       [0.09702195, 0.04942593],\n",
       "       [0.10749059, 0.05316666],\n",
       "       [0.11871345, 0.05679169],\n",
       "       [0.13066037, 0.06026247],\n",
       "       [0.14329988, 0.06357899],\n",
       "       [0.15660049, 0.06674125],\n",
       "       [0.17053071, 0.06974925],\n",
       "       [0.18505908, 0.072603  ],\n",
       "       [0.2001541 , 0.0753025 ],\n",
       "       [0.2157843 , 0.07784773],\n",
       "       [0.23191819, 0.08023871],\n",
       "       [0.2485243 , 0.08247543],\n",
       "       [0.26557114, 0.0845579 ],\n",
       "       [0.28302723, 0.08648611],\n",
       "       [0.3008611 , 0.08826006],\n",
       "       [0.31904125, 0.08987976],\n",
       "       [0.33753622, 0.09134519],\n",
       "       [0.35631451, 0.09265638],\n",
       "       [0.37534465, 0.0938133 ],\n",
       "       [0.39459516, 0.09481597],\n",
       "       [0.41403456, 0.09566438],\n",
       "       [0.43363136, 0.09635854],\n",
       "       [0.45335408, 0.09689844],\n",
       "       [0.47317124, 0.09728408],\n",
       "       [0.49305137, 0.09751546],\n",
       "       [0.51296298, 0.09759259]])"
      ]
     },
     "execution_count": 22,
     "metadata": {},
     "output_type": "execute_result"
    }
   ],
   "source": [
    "yp0 = 5e-3\n",
    "\n",
    "y0 = np.array([0, yp0])\n",
    "\n",
    "sol = odeint(f, y0, x)\n",
    "\n",
    "sol"
   ]
  },
  {
   "cell_type": "code",
   "execution_count": 24,
   "metadata": {},
   "outputs": [
    {
     "data": {
      "text/plain": [
       "array([0.51296298, 0.09759259])"
      ]
     },
     "execution_count": 24,
     "metadata": {},
     "output_type": "execute_result"
    },
    {
     "data": {
      "image/png": "[encoded data removed]",
      "text/plain": [
       "<Figure size 432x288 with 1 Axes>"
      ]
     },
     "metadata": {
      "needs_background": "light"
     },
     "output_type": "display_data"
    }
   ],
   "source": [
    "plt.plot(x,sol[:,0], label=\"Sol. inicial de aprox\")\n",
    "plt.legend()\n",
    "sol[-1,:]"
   ]
  }
 ],
 "metadata": {
  "kernelspec": {
   "display_name": "Python 3",
   "language": "python",
   "name": "python3"
  },
  "language_info": {
   "codemirror_mode": {
    "name": "ipython",
    "version": 3
   },
   "file_extension": ".py",
   "mimetype": "text/x-python",
   "name": "python",
   "nbconvert_exporter": "python",
   "pygments_lexer": "ipython3",
   "version": "3.8.3"
  }
 },
 "nbformat": 4,
 "nbformat_minor": 4
}
