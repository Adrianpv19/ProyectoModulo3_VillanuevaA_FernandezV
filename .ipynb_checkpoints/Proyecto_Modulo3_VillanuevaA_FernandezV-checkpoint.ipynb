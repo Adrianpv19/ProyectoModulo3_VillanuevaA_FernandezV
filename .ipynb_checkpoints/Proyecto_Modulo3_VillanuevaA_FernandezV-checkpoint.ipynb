{
 "cells": [
  {
   "cell_type": "markdown",
   "metadata": {},
   "source": [
    "# Momento flexionante de viga"
   ]
  },
  {
   "cell_type": "markdown",
   "metadata": {},
   "source": [
    "### Adrian Padilla Villanueva\n",
    "### Victor Manuel Vidal Fernandez\n",
    "\n",
    "\n",
    "# Objetivo\n",
    "\n",
    "    En este proyecto veremos el comportamiento de una viga de 10 metros de longitud, cuando es sometida a diferentes esfuerzos, todo esto mediante un modelo matematico.\n",
    "    \n",
    "    \n",
    "Supondremos que la viga ocupa el intervalo x∈[0,L] y denotamos el desplazamiento vertical de su eje por y(x). Para desplazamientos pequeños, y(x) satisface la ecuación de la curva elástica que proviene del equilibrio de momentos:\n",
    "\n",
    "$$\n",
    "y\"=\\frac{M(x)}{EI(x)}\n",
    "$$\n",
    "\n",
    "Donde E es el módulo de elasticidad lineal (o módulo de Young) que depende de las propiedades elásticas del material, y que supondremos constante, mientras que I(x) es el momento de inercia de la sección transversal respecto al centro la cual se representa como:\n",
    "\n",
    "$$\n",
    "I=\\frac{1}{12}ba^3\n",
    "$$\n",
    "\n",
    "La función M(x) se conoce como momento flector y representa el momento de las fuerzas aplicadas sobre la viga. \n",
    "\n",
    "$$\n",
    "M(x)=\\frac{L}{2}- Ix-\\frac{L}{2}I\n",
    "$$"
   ]
  },
  {
   "cell_type": "markdown",
   "metadata": {},
   "source": [
    "DATOS:\n",
    "\n",
    "$$\n",
    "E= 5*10^4\n",
    "$$\n",
    "\n",
    "$$\n",
    "a=0.6, b=0.3\n",
    "$$\n",
    "\n",
    "Donde a es la altura de la viga y b es el ancho\n",
    "\n",
    "Condiciones de contorno\n",
    "\n",
    "$$\n",
    "y(0)=0\n",
    "$$\n",
    "\n",
    "$$\n",
    "y(L)=0\n",
    "$$\n",
    "\n",
    "Condiciones de inicio\n",
    "\n",
    "$$\n",
    "y(0)=0\n",
    "$$\n",
    "\n",
    "$$\n",
    "y\"(0)=5*10^-3\n",
    "$$"
   ]
  },
  {
   "cell_type": "code",
   "execution_count": 8,
   "metadata": {},
   "outputs": [],
   "source": [
    "%matplotlib inline\n",
    "import numpy as np\n",
    "import matplotlib.pyplot as plt\n",
    "from scipy.integrate import odeint\n",
    "from scipy.optimize import newton"
   ]
  },
  {
   "cell_type": "code",
   "execution_count": 2,
   "metadata": {},
   "outputs": [],
   "source": [
    "def f(y,x):\n",
    "    return np.array([y[1], M(x) / (E*I(x))])"
   ]
  },
  {
   "cell_type": "code",
   "execution_count": 3,
   "metadata": {},
   "outputs": [],
   "source": [
    "L = 10\n",
    "E = 5e4\n",
    "a = 0.6\n",
    "b = 0.3\n",
    "\n",
    "x = np.linspace(0, L, num=50)\n",
    "\n",
    "def I(x):\n",
    "    return b*a**3/12\n",
    "def M(x):\n",
    "    return L/2-np.abs(x-L/2)"
   ]
  },
  {
   "cell_type": "markdown",
   "metadata": {},
   "source": [
    "Probamos la solucion con las condiciones iniciales"
   ]
  },
  {
   "cell_type": "code",
   "execution_count": 4,
   "metadata": {},
   "outputs": [],
   "source": [
    "odeint?"
   ]
  },
  {
   "cell_type": "code",
   "execution_count": 5,
   "metadata": {},
   "outputs": [
    {
     "data": {
      "text/plain": [
       "array([[0.        , 0.005     ],\n",
       "       [0.00102567, 0.00507713],\n",
       "       [0.0020828 , 0.00530851],\n",
       "       [0.0032029 , 0.00569416],\n",
       "       [0.00441744, 0.00623405],\n",
       "       [0.00575791, 0.00692821],\n",
       "       [0.00725578, 0.00777662],\n",
       "       [0.00894253, 0.00877929],\n",
       "       [0.01084965, 0.00993621],\n",
       "       [0.01300862, 0.0112474 ],\n",
       "       [0.01545092, 0.01271284],\n",
       "       [0.01820803, 0.01433253],\n",
       "       [0.02131143, 0.01610648],\n",
       "       [0.0247926 , 0.01803469],\n",
       "       [0.02868302, 0.02011716],\n",
       "       [0.03301418, 0.02235388],\n",
       "       [0.03781755, 0.02474486],\n",
       "       [0.04312461, 0.0272901 ],\n",
       "       [0.04896686, 0.02998959],\n",
       "       [0.05537576, 0.03284334],\n",
       "       [0.06238279, 0.03585134],\n",
       "       [0.07001945, 0.03901361],\n",
       "       [0.07831721, 0.04233012],\n",
       "       [0.08730755, 0.0458009 ],\n",
       "       [0.09702195, 0.04942593],\n",
       "       [0.10749059, 0.05316666],\n",
       "       [0.11871345, 0.05679169],\n",
       "       [0.13066037, 0.06026247],\n",
       "       [0.14329988, 0.06357899],\n",
       "       [0.15660049, 0.06674125],\n",
       "       [0.17053071, 0.06974925],\n",
       "       [0.18505908, 0.072603  ],\n",
       "       [0.2001541 , 0.0753025 ],\n",
       "       [0.2157843 , 0.07784773],\n",
       "       [0.23191819, 0.08023871],\n",
       "       [0.2485243 , 0.08247543],\n",
       "       [0.26557114, 0.0845579 ],\n",
       "       [0.28302723, 0.08648611],\n",
       "       [0.3008611 , 0.08826006],\n",
       "       [0.31904125, 0.08987976],\n",
       "       [0.33753622, 0.09134519],\n",
       "       [0.35631451, 0.09265638],\n",
       "       [0.37534465, 0.0938133 ],\n",
       "       [0.39459516, 0.09481597],\n",
       "       [0.41403456, 0.09566438],\n",
       "       [0.43363136, 0.09635854],\n",
       "       [0.45335408, 0.09689844],\n",
       "       [0.47317124, 0.09728408],\n",
       "       [0.49305137, 0.09751546],\n",
       "       [0.51296298, 0.09759259]])"
      ]
     },
     "execution_count": 5,
     "metadata": {},
     "output_type": "execute_result"
    }
   ],
   "source": [
    "yp0 = 5e-3\n",
    "\n",
    "y0 = np.array([0, yp0])\n",
    "\n",
    "sol = odeint(f, y0, x)\n",
    "\n",
    "sol"
   ]
  },
  {
   "cell_type": "code",
   "execution_count": 6,
   "metadata": {},
   "outputs": [
    {
     "data": {
      "text/plain": [
       "array([0.51296298, 0.09759259])"
      ]
     },
     "execution_count": 6,
     "metadata": {},
     "output_type": "execute_result"
    },
    {
     "data": {
      "image/png": "[encoded data removed]",
      "text/plain": [
       "<Figure size 432x288 with 1 Axes>"
      ]
     },
     "metadata": {
      "needs_background": "light"
     },
     "output_type": "display_data"
    }
   ],
   "source": [
    "plt.plot(x,sol[:,0], label=\"Sol. inicial de aprox\")\n",
    "plt.legend()\n",
    "sol[-1,:]"
   ]
  },
  {
   "cell_type": "code",
   "execution_count": 7,
   "metadata": {},
   "outputs": [
    {
     "data": {
      "text/plain": [
       "0.5129629801243984"
      ]
     },
     "execution_count": 7,
     "metadata": {},
     "output_type": "execute_result"
    }
   ],
   "source": [
    "def viga_biap(yp0):\n",
    "    y0 = np.array([0, yp0])\n",
    "    sol = odeint(f, y0, x)\n",
    "    return sol[-1, 0]\n",
    "viga_biap(5e-3)\n"
   ]
  },
  {
   "cell_type": "code",
   "execution_count": 9,
   "metadata": {},
   "outputs": [],
   "source": [
    "yp0 = newton(viga_biap, 5e-2)"
   ]
  },
  {
   "cell_type": "code",
   "execution_count": 10,
   "metadata": {},
   "outputs": [],
   "source": [
    "y0 = np.array([0, yp0])"
   ]
  },
  {
   "cell_type": "code",
   "execution_count": 12,
   "metadata": {},
   "outputs": [
    {
     "name": "stdout",
     "output_type": "stream",
     "text": [
      "[[ 0.00000000e+00 -4.62962874e-02]\n",
      " [-9.44296136e-03 -4.62191590e-02]\n",
      " [-1.88544555e-02 -4.59877739e-02]\n",
      " [-2.82029877e-02 -4.56021322e-02]\n",
      " [-3.74570770e-02 -4.50622337e-02]\n",
      " [-4.65852425e-02 -4.43680784e-02]\n",
      " [-5.55560031e-02 -4.35196665e-02]\n",
      " [-6.43378780e-02 -4.25169979e-02]\n",
      " [-7.28993861e-02 -4.13600725e-02]\n",
      " [-8.12090466e-02 -4.00488904e-02]\n",
      " [-8.92353784e-02 -3.85834517e-02]\n",
      " [-9.69469006e-02 -3.69637562e-02]\n",
      " [-1.04312132e-01 -3.51898040e-02]\n",
      " [-1.11299592e-01 -3.32615950e-02]\n",
      " [-1.17877800e-01 -3.11791294e-02]\n",
      " [-1.24015274e-01 -2.89424070e-02]\n",
      " [-1.29680533e-01 -2.65514280e-02]\n",
      " [-1.34842098e-01 -2.40061922e-02]\n",
      " [-1.39468486e-01 -2.13066997e-02]\n",
      " [-1.43528216e-01 -1.84529505e-02]\n",
      " [-1.46989808e-01 -1.54449446e-02]\n",
      " [-1.49821781e-01 -1.22826819e-02]\n",
      " [-1.51992654e-01 -8.96616257e-03]\n",
      " [-1.53470946e-01 -5.49538651e-03]\n",
      " [-1.54225176e-01 -1.87035373e-03]\n",
      " [-1.54225168e-01  1.87034936e-03]\n",
      " [-1.53470939e-01  5.49538214e-03]\n",
      " [-1.51992648e-01  8.96615820e-03]\n",
      " [-1.49821776e-01  1.22826776e-02]\n",
      " [-1.46989804e-01  1.54449402e-02]\n",
      " [-1.43528213e-01  1.84529461e-02]\n",
      " [-1.39468483e-01  2.13066953e-02]\n",
      " [-1.34842096e-01  2.40061878e-02]\n",
      " [-1.29680533e-01  2.65514236e-02]\n",
      " [-1.24015274e-01  2.89424027e-02]\n",
      " [-1.17877801e-01  3.11791250e-02]\n",
      " [-1.11299594e-01  3.32615907e-02]\n",
      " [-1.04312135e-01  3.51897996e-02]\n",
      " [-9.69469045e-02  3.69637518e-02]\n",
      " [-8.92353832e-02  3.85834473e-02]\n",
      " [-8.12090523e-02  4.00488861e-02]\n",
      " [-7.28993927e-02  4.13600681e-02]\n",
      " [-6.43378855e-02  4.25169935e-02]\n",
      " [-5.55560115e-02  4.35196621e-02]\n",
      " [-4.65852517e-02  4.43680741e-02]\n",
      " [-3.74570871e-02  4.50622293e-02]\n",
      " [-2.82029987e-02  4.56021278e-02]\n",
      " [-1.88544674e-02  4.59877696e-02]\n",
      " [-9.44297419e-03  4.62191546e-02]\n",
      " [ 4.09394740e-16  4.62962830e-02]]\n"
     ]
    },
    {
     "data": {
      "text/plain": [
       "<matplotlib.legend.Legend at 0x9641408>"
      ]
     },
     "execution_count": 12,
     "metadata": {},
     "output_type": "execute_result"
    },
    {
     "data": {
      "image/png": "[encoded data removed]",
      "text/plain": [
       "<Figure size 432x288 with 1 Axes>"
      ]
     },
     "metadata": {
      "needs_background": "light"
     },
     "output_type": "display_data"
    }
   ],
   "source": [
    "sol = odeint(f, y0, x)\n",
    "print(sol)\n",
    "# Plot\n",
    "plt.plot(x, sol[:, 0], label='Solución aproximada final')\n",
    "plt.legend()"
   ]
  },
  {
   "cell_type": "markdown",
   "metadata": {},
   "source": [
    "# El valor de la deflexión máxima es -0.15 que como podemos observar en la gráfica, se produce en el centro de vano."
   ]
  },
  {
   "cell_type": "code",
   "execution_count": null,
   "metadata": {},
   "outputs": [],
   "source": []
  }
 ],
 "metadata": {
  "kernelspec": {
   "display_name": "Python 3",
   "language": "python",
   "name": "python3"
  },
  "language_info": {
   "codemirror_mode": {
    "name": "ipython",
    "version": 3
   },
   "file_extension": ".py",
   "mimetype": "text/x-python",
   "name": "python",
   "nbconvert_exporter": "python",
   "pygments_lexer": "ipython3",
   "version": "3.7.6"
  }
 },
 "nbformat": 4,
 "nbformat_minor": 4
}
